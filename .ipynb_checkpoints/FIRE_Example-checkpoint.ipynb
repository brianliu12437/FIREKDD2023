{
 "cells": [
  {
   "cell_type": "code",
   "execution_count": 3,
   "id": "1b159bb9",
   "metadata": {},
   "outputs": [],
   "source": [
    "import pandas as pd\n",
    "import numpy as np\n",
    "import sys\n",
    "import os\n",
    "\n",
    "import sklearn\n",
    "from sklearn import datasets\n",
    "from sklearn import preprocessing\n",
    "from sklearn.model_selection import train_test_split\n",
    "from sklearn.ensemble import RandomForestRegressor\n",
    "from sklearn.metrics import mean_squared_error\n",
    "\n",
    "import warnings\n",
    "warnings.filterwarnings(\"ignore\")\n",
    "\n",
    "#Import Fire\n",
    "sys.path.insert(0, './CodeImplementation')\n",
    "import FIRE"
   ]
  },
  {
   "cell_type": "code",
   "execution_count": 14,
   "id": "4be8eaa1",
   "metadata": {},
   "outputs": [
    {
     "name": "stdout",
     "output_type": "stream",
     "text": [
      "error rf:  0.28873072060002763\n",
      "(4404, 7999)\n"
     ]
    }
   ],
   "source": [
    "# Data Loading and Processing\n",
    "dataset1 = sklearn.datasets.fetch_openml(data_id = 503,as_frame = True)\n",
    "name = dataset1.details['name']\n",
    "X, y = dataset1.data, dataset1.target \n",
    "\n",
    "xTrain, xTest, yTrain, yTest = train_test_split(X, y, test_size=0.33)\n",
    "xTrainScaler = preprocessing.StandardScaler()\n",
    "xTrain = xTrainScaler.fit_transform(xTrain)\n",
    "xTrain = pd.DataFrame(xTrain,columns = X.columns)\n",
    "xTest = preprocessing.StandardScaler().fit_transform(xTest)\n",
    "xTest = pd.DataFrame(xTest,columns = X.columns)\n",
    "yTrain = preprocessing.StandardScaler().fit_transform(yTrain.values.reshape(-1, 1))\n",
    "yTest = preprocessing.StandardScaler().fit_transform(yTest.values.reshape(-1, 1))\n",
    "yTrain = pd.Series(yTrain.flatten())\n",
    "yTrain.index = xTrain.index\n",
    "yTest = pd.Series(yTest.flatten())\n",
    "yTest.index = xTest.index\n"
   ]
  },
  {
   "cell_type": "code",
   "execution_count": 18,
   "id": "62754bb0",
   "metadata": {},
   "outputs": [
    {
     "name": "stdout",
     "output_type": "stream",
     "text": [
      "error rf:  0.2882857818085802\n"
     ]
    }
   ],
   "source": [
    "#Fit Random Forest\n",
    "rf = RandomForestRegressor(n_estimators = 500, \n",
    "                           max_features = 'sqrt', max_depth = 4).fit(xTrain,yTrain)\n",
    "\n",
    "test_pred_randomized = rf.predict(xTest)\n",
    "tree_list = rf.estimators_\n",
    "print('error rf: ', mean_squared_error(yTest,test_pred_randomized))"
   ]
  },
  {
   "cell_type": "code",
   "execution_count": 19,
   "id": "fcb5210e",
   "metadata": {},
   "outputs": [
    {
     "name": "stdout",
     "output_type": "stream",
     "text": [
      "(4404, 7994)\n"
     ]
    }
   ],
   "source": [
    "# Create FIRE matrices (block structure is that each tree forms a block?)\n",
    "M, nodes = FIRE.get_node_matrix_sparse(xTrain,tree_list)\n",
    "M_test, _ = FIRE.get_node_matrix_sparse(xTest,tree_list)\n",
    "blocks = np.insert(np.cumsum([len(i) for i in nodes]),0,0)\n",
    "breakpoints = np.cumsum(np.array([len(temp) for temp in nodes]))-1\n",
    "print(M.shape)"
   ]
  },
  {
   "cell_type": "code",
   "execution_count": 21,
   "id": "5f82c38c",
   "metadata": {},
   "outputs": [
    {
     "name": "stdout",
     "output_type": "stream",
     "text": [
      "# selected rules 14\n",
      "error rule ensemble 0.3090847375637331\n"
     ]
    }
   ],
   "source": [
    "# Extract Rules using FIRE with the MCP penalty\n",
    "num_prox_iters = 5\n",
    "threshold = 10**-3\n",
    "gamma = 1.1\n",
    "alpha = 55\n",
    "\n",
    "w_MCP,_,_ = FIRE.MCP_GBCD(M,yTrain.values,blocks,alpha,gamma,num_prox_iters,threshold)\n",
    "print('# selected rules', sum(w_MCP!=0))\n",
    "print('error rule ensemble', mean_squared_error(yTest,M_test@w_MCP))"
   ]
  }
 ],
 "metadata": {
  "kernelspec": {
   "display_name": "Python 3 (ipykernel)",
   "language": "python",
   "name": "python3"
  },
  "language_info": {
   "codemirror_mode": {
    "name": "ipython",
    "version": 3
   },
   "file_extension": ".py",
   "mimetype": "text/x-python",
   "name": "python",
   "nbconvert_exporter": "python",
   "pygments_lexer": "ipython3",
   "version": "3.11.8"
  }
 },
 "nbformat": 4,
 "nbformat_minor": 5
}
